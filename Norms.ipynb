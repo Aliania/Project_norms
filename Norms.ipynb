{
 "cells": [
  {
   "cell_type": "markdown",
   "metadata": {},
   "source": [
    "В данной работе я решила реализовать мини-проект, который бы позволил мне автоматизировать одну из рутинных операций - расчет норм по питанию. В процессе расчета необходимо перевести массу съеденного продукта из брутто в нетто, а так же сгруппировать их по определенным категориям."
   ]
  },
  {
   "cell_type": "code",
   "execution_count": 79,
   "metadata": {},
   "outputs": [
    {
     "data": {
      "text/plain": [
       "'Russian_Russia.1251'"
      ]
     },
     "execution_count": 79,
     "metadata": {},
     "output_type": "execute_result"
    }
   ],
   "source": [
    "import pandas as pd\n",
    "from datetime import datetime\n",
    "import locale\n",
    "locale.setlocale(locale.LC_ALL, \"russian\")"
   ]
  },
  {
   "cell_type": "markdown",
   "metadata": {},
   "source": [
    "Импортируем файл и настроим его вывод"
   ]
  },
  {
   "cell_type": "code",
   "execution_count": 80,
   "metadata": {},
   "outputs": [],
   "source": [
    "df = pd.read_excel('Norms.xlsx',)\n",
    "month = df.loc[2, 'Unnamed: 0'].split()[2]\n",
    "month_number = datetime.strptime(month, '%B').month\n",
    "df = df.iloc[9:63]\n",
    "\n",
    "data = df.drop(columns=['Unnamed: 1','Unnamed: 2', 'Unnamed: 3', 'Unnamed: 5', 'Unnamed: 6', 'Unnamed: 8', 'Unnamed: 10', 'Unnamed: 12']) #Убираем лишние стоблцы\n",
    "data = data.set_axis(['product_name', 'weight_children', 'children_cost', 'nursery_weight', 'nursery_cost', 'weight_total', 'cost_total'], axis='columns') #Переименовываем столбцы\n",
    "data = data.fillna('0')"
   ]
  },
  {
   "cell_type": "markdown",
   "metadata": {},
   "source": [
    "Создадим таблицу с коэффициентами перевода в нетто."
   ]
  },
  {
   "cell_type": "code",
   "execution_count": 81,
   "metadata": {},
   "outputs": [],
   "source": [
    "product_names_and_coeff = {'Вафли': 1,\n",
    "'Геркулес':1,\n",
    "'Горох':1,\n",
    "'Дрожжи':1,\n",
    "'Зеленый горошек 0,420':0.67,\n",
    "'Зеленый горошек':0.67,\n",
    "'Изюм':1,\n",
    "'Какао':1,\n",
    "'Капуста':0.8,\n",
    "'Картофель':0.6,\n",
    "'Кефир':1,\n",
    "'Кисель сухой': 1,\n",
    "'Кислота аскорбиновая': 1,\n",
    "'Компот (сухофрукты)':1,\n",
    "'Кофе':1,\n",
    "'Крупа гречневая':1,\n",
    "'Крупа кукурузная':1,\n",
    "'Крупа манная':1,\n",
    "'Крупа перловая':1,\n",
    "'Крупа ячневая':1,\n",
    "'Лук':0.84,\n",
    "'Макаронные изделия':1,\n",
    "'Макаронные изделия \"Вермишель\"':1,\n",
    "'Масло растительное':1,\n",
    "'Масло сливочное':1,\n",
    "'Минтай':0.58,\n",
    "'Молоко свежее':1,\n",
    "'Молоко сухое цельное':8.33,\n",
    "'Морковь':0.75,\n",
    "'Мука пшеничная': 1,\n",
    "'Мясо ЦБ': 0.66,\n",
    "'Огурцы': 0.93,\n",
    "'Огурцы консервированные 0,72': 0.6,\n",
    "'Окорок свиной б/к': 0.852,\n",
    "'Печень говяжья': 0.83,\n",
    "'Печенье': 1,\n",
    "'Повидло разное': 1,\n",
    "'Помидоры': 0.85,\n",
    "'Пшено': 1,\n",
    "'Рис':1,\n",
    "'Ряженка':1,\n",
    "'Сахар песок': 1,\n",
    "'Сода': 1,\n",
    "'Свекла': 0.75,\n",
    "'Сметана': 1,\n",
    "'Сок фруктовый': 1,\n",
    "'Сок фруктовый 0,2 для яслей': 1,\n",
    "'Соль': 1,\n",
    "'Сыр': 0.97,\n",
    "'Творог': 0.985,\n",
    "'Хлеб \"Новый\"': 1,\n",
    "'Хлеб \"Пшеничный\"': 1,\n",
    "'Хлеб \"Ржаной\"':1,\n",
    "'Чай': 1,\n",
    "'Шиповник': 1,\n",
    "'Яблоки': 0.88,\n",
    "'Яйцо':1}\n",
    "\n",
    "if month_number >= 1 and month_number <= 8:\n",
    "    product_names_and_coeff['Морковь'] = 0.75\n",
    "else: \n",
    "    product_names_and_coeff['Морковь'] = 0.8\n",
    "    \n",
    "if month_number >= 1 and month_number <= 8:\n",
    "    product_names_and_coeff['Свекла'] = 0.75\n",
    "else:\n",
    "    product_names_and_coeff['Свекла'] = 0.8\n",
    "    \n",
    "if month_number >= 1 and month_number <= 2:\n",
    "    product_names_and_coeff['Картофель'] = 0.65\n",
    "elif month_number >= 3 and month_number <= 8:\n",
    "    product_names_and_coeff['Картофель'] = 0.6\n",
    "elif month_number >= 9 and month_number <= 10:\n",
    "    product_names_and_coeff['Картофель'] = 0.75\n",
    "elif month_number >= 11 and month_number <= 12:\n",
    "    product_names_and_coeff['Картофель'] = 0.7\n",
    "\n",
    "table_with_coeff = pd.DataFrame.from_dict(product_names_and_coeff, orient = 'index')\n",
    "table_with_coeff.set_axis(['coefficient'], axis = 'columns', inplace = True)\n",
    "table_with_coeff.index_name = 'product_name'\n",
    "table_with_coeff['product_name']=table_with_coeff.index\n",
    "table_with_coeff = table_with_coeff.reset_index(drop=True)"
   ]
  },
  {
   "cell_type": "markdown",
   "metadata": {},
   "source": [
    "Соединяем таблицы, добавляем столбцы с расчетом значений в нетто."
   ]
  },
  {
   "cell_type": "code",
   "execution_count": 82,
   "metadata": {},
   "outputs": [],
   "source": [
    "data_new = pd.merge(data, table_with_coeff, how = 'left', on = 'product_name')\n",
    "data_new[['weight_children', 'nursery_weight']] =  data_new[['weight_children', 'nursery_weight']].apply(pd.to_numeric, errors = 'coerce')\n",
    "data_new.fillna('0')\n",
    "\n",
    "\n",
    "data_new['weight_children_netto'] = data_new['weight_children'] * data_new['coefficient']\n",
    "data_new['nursery_weight_netto'] = data_new['nursery_weight'] * data_new['coefficient']\n"
   ]
  },
  {
   "cell_type": "markdown",
   "metadata": {},
   "source": [
    "Сейчас будем группировать значения по категориям."
   ]
  },
  {
   "cell_type": "code",
   "execution_count": 83,
   "metadata": {},
   "outputs": [],
   "source": [
    "def extract_children_weight(data, product_name):\n",
    "    #data - используемый DataFrame\n",
    "    #product_name - название продукта, данные по которому извлекаются\n",
    "    name = str(product_name)\n",
    "    product_value_series = data.loc[data['product_name'] == name]['weight_children_netto'].reset_index()\n",
    "    if len(product_value_series) > 0:\n",
    "        return product_value_series['weight_children_netto'][0]\n",
    "    else:\n",
    "        return 0\n",
    "    \n",
    "def extract_nursery_weight(data, product_name):\n",
    "    #data - используемый DataFrame\n",
    "    #product_name - название продукта, данные по которому извлекаются\n",
    "    name = str(product_name)\n",
    "    product_value_series = data.loc[data['product_name'] == name]['nursery_weight_netto'].reset_index()\n",
    "    if len(product_value_series) > 0:\n",
    "        return product_value_series['nursery_weight_netto'][0]\n",
    "    else:\n",
    "        return 0\n",
    "   \n",
    "def sum_of_extracts(data, names, category):\n",
    "    #data - датафрейм с данными\n",
    "    #names - список с названиями продуктов\n",
    "    #category - название категории довольствующихся\n",
    "    #Сама функция суммирует все значения по указанной категории продуктов в категории довольствующихся\n",
    "    total = 0\n",
    "    category = str(category)\n",
    "    for name in names:\n",
    "        if category == 'children' :\n",
    "            extract = extract_children_weight(data, name)\n",
    "            total += extract\n",
    "        elif category == 'nursery' :\n",
    "            extract = extract_nursery_weight(data, name)\n",
    "            total += extract\n",
    "        else :\n",
    "            print ('Введите верную категорию')\n",
    "    return total\n",
    "\n",
    "milk = ['Молоко свежее', \"Молоко сухое цельное\", \"Кефир\", \"Ряженка\"]\n",
    "milk_production_children = sum_of_extracts(data_new, milk, 'children')\n",
    "milk_production_nursery = sum_of_extracts(data_new, milk, 'nursery')\n",
    "\n",
    "porridge = ['Геркулес', \"Горох\", \"Крупа гречневая\", \"Крупа кукурузная\", \"Крупа манная\", \"Крупа перловая\", \"Крупа ячневая\", \"Пшено\", \"Рис\"]\n",
    "porridge_children = sum_of_extracts(data_new, porridge, 'children')\n",
    "porridge_nursery = sum_of_extracts(data_new, porridge, 'nursery')\n",
    "\n",
    "confectionary = ['Вафли', 'Печенье', 'Повидло разное']\n",
    "confectionary_children = sum_of_extracts(data_new, confectionary, 'children')\n",
    "confectionary_nursery = sum_of_extracts(data_new, confectionary, 'nursery')\n",
    "\n",
    "vegetables = ['Зеленый горошек 0,420', 'Капуста', 'Лук', 'Морковь', 'Огурцы', 'Огурцы консервированные 0,72', 'Помидоры', 'Зеленый горошек 0,420', 'Свекла']\n",
    "vegetables_children = sum_of_extracts(data_new, vegetables, 'children')\n",
    "vegetables_nursery = sum_of_extracts(data_new, vegetables, 'nursery')\n",
    "\n",
    "dried_fruits = ['Компот (сухофрукты)', 'Изюм', 'Шиповник']\n",
    "dried_fruits_children = sum_of_extracts(data_new, dried_fruits, 'children')\n",
    "dried_fruits_nursery = sum_of_extracts(data_new, dried_fruits, 'nursery')\n",
    "\n",
    "categories = ['мясо', 'птица', 'субпродукты', 'рыба', 'масло сливочное', 'масло растительное', 'молоко и кисломолочные продукты', 'творог', 'сметана', 'сыр', 'яйцо (шт)', 'мука', 'крупы,бобовые', 'макароны', \n",
    "              'сахар', 'конд. изд.', 'с/фрукты', 'фрукты', 'соки', 'картофель', 'овощи', 'хлеб ржаной', 'хлеб пшеничный или зерновой']\n",
    "\n",
    "\n",
    "nursery_weight = [extract_nursery_weight(data_new, 'Окорок свиной б/к'), extract_nursery_weight(data_new, 'Мясо ЦБ'), extract_nursery_weight(data_new, 'Печень говяжья'), extract_nursery_weight(data_new, 'Минтай'), extract_nursery_weight(data_new, \t'Масло сливочное'), extract_nursery_weight(data_new, 'Масло растительное'), milk_production_nursery, extract_nursery_weight(data_new, 'Творог'), extract_nursery_weight(data_new, 'Сметана'), extract_nursery_weight(data_new, 'Сыр'), \n",
    "                 extract_nursery_weight(data_new, 'Яйцо'),extract_nursery_weight(data_new, 'Мука пшеничная'), porridge_nursery, extract_nursery_weight(data_new, 'Макаронные изделия \"Вермишель\"') + extract_nursery_weight(data_new, 'Макаронные изделия'),\n",
    "                 extract_nursery_weight(data_new, 'Сахар песок'), confectionary_nursery, dried_fruits_nursery, extract_nursery_weight(data_new, 'Яблоки'), extract_nursery_weight(data_new, 'Сок фруктовый 0,2 для яслей') + extract_nursery_weight(data_new, 'Сок фруктовый'), \n",
    "                 extract_nursery_weight(data_new, 'Картофель'), vegetables_nursery, extract_nursery_weight(data_new, 'Хлеб \"Ржаной\"'), extract_nursery_weight(data_new, 'Хлеб \"Пшеничный\"') + extract_nursery_weight(data_new, 'Хлеб \"Новый\"')]\n",
    "\n",
    "children_weight = [extract_children_weight(data_new, 'Окорок свиной б/к'), extract_children_weight(data_new, 'Мясо ЦБ'), extract_children_weight(data_new, 'Печень говяжья'), extract_children_weight(data_new, 'Минтай'), extract_children_weight(data_new, 'Масло сливочное'), extract_children_weight(data_new, 'Масло растительное'), milk_production_children, extract_children_weight(data_new, 'Творог'), extract_children_weight(data_new, 'Сметана'), extract_children_weight(data_new, 'Сыр'), \n",
    "                 extract_children_weight(data_new, 'Яйцо'),extract_children_weight(data_new, 'Мука пшеничная'), porridge_children, extract_children_weight(data_new, 'Макаронные изделия \"Вермишель\"') + extract_children_weight(data_new, 'Макаронные изделия'),\n",
    "                 extract_children_weight(data_new, 'Сахар песок'), confectionary_children, dried_fruits_children, extract_children_weight(data_new, 'Яблоки'), extract_children_weight(data_new, 'Сок фруктовый 0,2 для яслей') + extract_children_weight(data_new, 'Сок фруктовый'), \n",
    "                 extract_children_weight(data_new, 'Картофель'), vegetables_children, extract_children_weight(data_new, 'Хлеб \"Ржаной\"'), extract_children_weight(data_new, 'Хлеб \"Пшеничный\"') + extract_children_weight(data_new, 'Хлеб \"Новый\"')]\n",
    "\n",
    "table_total = {'Категории' : categories, 'Ясли' : nursery_weight, 'Сад': children_weight}\n",
    "\n",
    "\n",
    "ending_table = pd.DataFrame(table_total)\n",
    "ending_table.to_excel('Итог.xlsx')\n"
   ]
  }
 ],
 "metadata": {
  "kernelspec": {
   "display_name": "Python 3 (ipykernel)",
   "language": "python",
   "name": "python3"
  },
  "language_info": {
   "codemirror_mode": {
    "name": "ipython",
    "version": 3
   },
   "file_extension": ".py",
   "mimetype": "text/x-python",
   "name": "python",
   "nbconvert_exporter": "python",
   "pygments_lexer": "ipython3",
   "version": "3.9.4"
  }
 },
 "nbformat": 4,
 "nbformat_minor": 4
}